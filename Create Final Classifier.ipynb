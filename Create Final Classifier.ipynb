{
 "cells": [
  {
   "cell_type": "markdown",
   "metadata": {},
   "source": [
    "## Create Final Classifier\n",
    "Create the final classifiers to be used for actually processing the rasters. These will be saved as joblib files."
   ]
  },
  {
   "cell_type": "code",
   "execution_count": 6,
   "metadata": {},
   "outputs": [],
   "source": [
    "from ErrorML.ErrorML import *\n",
    "from sklearn.metrics import balanced_accuracy_score, precision_score, recall_score\n",
    "from sklearn.model_selection import StratifiedKFold\n",
    "import joblib"
   ]
  },
  {
   "cell_type": "code",
   "execution_count": 7,
   "metadata": {},
   "outputs": [],
   "source": [
    "def run_and_get_cm(X_train, y_train, X_test, y_test):\n",
    "    classifier = create_pipeline(kind='gnb_pca_default')\n",
    "    classifier.fit(X_train, y_train)\n",
    "    test_acc = classifier.score(X_test, y_test)\n",
    "    y_pred = classifier.predict(X_test)\n",
    "    \n",
    "    balanced_acc = balanced_accuracy_score(y_test, y_pred)\n",
    "    precision = precision_score(y_test, y_pred, average=None)\n",
    "    recall = recall_score(y_test, y_pred, average=None)\n",
    "    \n",
    "    #print(recall)\n",
    "    cm = confusion_matrix(y_test, y_pred)\n",
    "    return balanced_acc, cm"
   ]
  },
  {
   "cell_type": "code",
   "execution_count": 8,
   "metadata": {},
   "outputs": [],
   "source": [
    "def get_classifier(filename, output_filename, classes=[-2, -0.5, 0.5, 6.5], categorised=True, focal=False,\n",
    "                       scale=False, exclude=None, absolute=False):\n",
    "    df = load_data(filename)\n",
    "    \n",
    "    df.loc[df['Type'] == 'Exposed', 'Type'] = 0\n",
    "    df.loc[df['Type'] == 'Submerged', 'Type'] = 1\n",
    "\n",
    "    \n",
    "    X, y = get_processed_data(df, classes=classes, categorised=categorised, focal=focal,\n",
    "                              scale=scale, exclude=exclude, absolute=absolute)\n",
    "    X = X.values\n",
    "    print(X.shape)\n",
    "\n",
    "    # Do we need to split into train and test again? Or can we use all data as training now\n",
    "    # Using all data for the moment\n",
    "    ros = RandomOverSampler()\n",
    "    X_train, y_train = ros.fit_resample(X, y)\n",
    "\n",
    "    classifier = create_pipeline(kind='gnb_pca_default')\n",
    "    classifier.fit(X_train, y_train)\n",
    "    \n",
    "    joblib.dump(classifier, output_filename)\n",
    "    "
   ]
  },
  {
   "cell_type": "code",
   "execution_count": 9,
   "metadata": {},
   "outputs": [],
   "source": [
    "classes_10 = [-2, -0.5, -0.2, -0.1, -0.05, 0, 0.05, 0.1, 0.2, 0.5, 6.5]\n",
    "classes_3 = [-2, -0.2, 0.2, 6.5]"
   ]
  },
  {
   "cell_type": "code",
   "execution_count": 10,
   "metadata": {},
   "outputs": [
    {
     "name": "stdout",
     "output_type": "stream",
     "text": [
      "['Blur']\n",
      "(1522, 16)\n",
      "(1522, 15)\n",
      "Before BT\n",
      "(1522, 15)\n",
      "Index(['MaxSl_Foc', 'MinSl_Foc', 'StdSl_Foc', 'CQ_Mean_Foc', 'Rough40_Foc',\n",
      "       'Slope', 'Rough40', 'CQ_Mean', 'Pt_Density', 'VEG_TREES', 'DepthRC_JD',\n",
      "       'Shadow', 'Reflection', 'Type', 'Precsn_m'],\n",
      "      dtype='object')\n",
      "After BT\n",
      "(1522, 15)\n",
      "Index(['MaxSl_Foc', 'MinSl_Foc', 'StdSl_Foc', 'CQ_Mean_Foc', 'Rough40_Foc',\n",
      "       'Slope', 'Rough40', 'CQ_Mean', 'Pt_Density', 'VEG_TREES', 'DepthRC_JD',\n",
      "       'Shadow', 'Reflection', 'Type', 'Precsn_m'],\n",
      "      dtype='object')\n",
      "At return\n",
      "(1522, 15)\n",
      "(1522, 15)\n"
     ]
    }
   ],
   "source": [
    "get_classifier('2016_ValidationPts_ALL_Updated17May2019_ROBIN.csv',\n",
    "               'results_newMay2017/classifiers/2016_3class_GNBPCA.jbl',\n",
    "               classes=classes_3, focal=None, exclude=['Blur'])"
   ]
  },
  {
   "cell_type": "code",
   "execution_count": 11,
   "metadata": {},
   "outputs": [
    {
     "name": "stdout",
     "output_type": "stream",
     "text": [
      "Blur\n",
      "(1522, 16)\n",
      "(1522, 15)\n",
      "Before BT\n",
      "(1522, 15)\n",
      "Index(['MaxSl_Foc', 'MinSl_Foc', 'StdSl_Foc', 'CQ_Mean_Foc', 'Rough40_Foc',\n",
      "       'Slope', 'Rough40', 'CQ_Mean', 'Pt_Density', 'VEG_TREES', 'DepthRC_JD',\n",
      "       'Shadow', 'Reflection', 'Type', 'Precsn_m'],\n",
      "      dtype='object')\n",
      "After BT\n",
      "(1522, 15)\n",
      "Index(['MaxSl_Foc', 'MinSl_Foc', 'StdSl_Foc', 'CQ_Mean_Foc', 'Rough40_Foc',\n",
      "       'Slope', 'Rough40', 'CQ_Mean', 'Pt_Density', 'VEG_TREES', 'DepthRC_JD',\n",
      "       'Shadow', 'Reflection', 'Type', 'Precsn_m'],\n",
      "      dtype='object')\n",
      "At return\n",
      "(1522, 15)\n",
      "(1522, 15)\n"
     ]
    }
   ],
   "source": [
    "get_classifier('2016_ValidationPts_ALL_Updated17May2019_ROBIN.csv',\n",
    "               'results_newMay2017/classifiers/2016_10class_GNBPCA.jbl',\n",
    "               classes=classes_10, focal=None, exclude='Blur')"
   ]
  },
  {
   "cell_type": "code",
   "execution_count": 12,
   "metadata": {},
   "outputs": [
    {
     "name": "stdout",
     "output_type": "stream",
     "text": [
      "Blur\n",
      "(2091, 16)\n",
      "(2091, 15)\n",
      "Before BT\n",
      "(2091, 15)\n",
      "Index(['MaxSl_Foc', 'MinSl_Foc', 'StdSl_Foc', 'CQ_Mean_Foc', 'Rough40_Foc',\n",
      "       'Slope', 'Rough40', 'CQ_Mean', 'Pt_Density', 'VEG_TREES', 'DepthRC_JD',\n",
      "       'Shadow', 'Reflection', 'Type', 'Precsn_m'],\n",
      "      dtype='object')\n",
      "After BT\n",
      "(2091, 15)\n",
      "Index(['MaxSl_Foc', 'MinSl_Foc', 'StdSl_Foc', 'CQ_Mean_Foc', 'Rough40_Foc',\n",
      "       'Slope', 'Rough40', 'CQ_Mean', 'Pt_Density', 'VEG_TREES', 'DepthRC_JD',\n",
      "       'Shadow', 'Reflection', 'Type', 'Precsn_m'],\n",
      "      dtype='object')\n",
      "At return\n",
      "(2091, 15)\n",
      "(2091, 15)\n"
     ]
    }
   ],
   "source": [
    "get_classifier('2017_ValidationPts_ALL_Update17May2019_ROBIN.csv',\n",
    "               'results_newMay2017/classifiers/2017_3class_GNBPCA.jbl',\n",
    "               classes=classes_3, focal=None, exclude='Blur')"
   ]
  },
  {
   "cell_type": "code",
   "execution_count": 13,
   "metadata": {
    "scrolled": true
   },
   "outputs": [
    {
     "name": "stdout",
     "output_type": "stream",
     "text": [
      "Blur\n",
      "(2091, 16)\n",
      "(2091, 15)\n",
      "Before BT\n",
      "(2091, 15)\n",
      "Index(['MaxSl_Foc', 'MinSl_Foc', 'StdSl_Foc', 'CQ_Mean_Foc', 'Rough40_Foc',\n",
      "       'Slope', 'Rough40', 'CQ_Mean', 'Pt_Density', 'VEG_TREES', 'DepthRC_JD',\n",
      "       'Shadow', 'Reflection', 'Type', 'Precsn_m'],\n",
      "      dtype='object')\n",
      "After BT\n",
      "(2091, 15)\n",
      "Index(['MaxSl_Foc', 'MinSl_Foc', 'StdSl_Foc', 'CQ_Mean_Foc', 'Rough40_Foc',\n",
      "       'Slope', 'Rough40', 'CQ_Mean', 'Pt_Density', 'VEG_TREES', 'DepthRC_JD',\n",
      "       'Shadow', 'Reflection', 'Type', 'Precsn_m'],\n",
      "      dtype='object')\n",
      "At return\n",
      "(2091, 15)\n",
      "(2091, 15)\n"
     ]
    }
   ],
   "source": [
    "get_classifier('2017_ValidationPts_ALL_Update17May2019_ROBIN.csv',\n",
    "               'results_newMay2017/classifiers/2017_10class_GNBPCA.jbl',\n",
    "               classes=classes_10, focal=None, exclude='Blur')"
   ]
  },
  {
   "cell_type": "code",
   "execution_count": null,
   "metadata": {},
   "outputs": [],
   "source": []
  },
  {
   "cell_type": "code",
   "execution_count": null,
   "metadata": {},
   "outputs": [],
   "source": []
  }
 ],
 "metadata": {
  "hide_input": false,
  "kernelspec": {
   "display_name": "Python 3",
   "language": "python",
   "name": "python3"
  },
  "language_info": {
   "codemirror_mode": {
    "name": "ipython",
    "version": 3
   },
   "file_extension": ".py",
   "mimetype": "text/x-python",
   "name": "python",
   "nbconvert_exporter": "python",
   "pygments_lexer": "ipython3",
   "version": "3.7.1"
  }
 },
 "nbformat": 4,
 "nbformat_minor": 2
}
