{
 "cells": [
  {
   "cell_type": "markdown",
   "metadata": {},
   "source": [
    "## Investigate PCA parameters\n",
    "Investigate the parameters for the PCA used before the GNB classifier."
   ]
  },
  {
   "cell_type": "code",
   "execution_count": 1,
   "metadata": {},
   "outputs": [],
   "source": [
    "from ErrorML.ErrorML import *\n",
    "from imblearn.metrics import classification_report_imbalanced\n",
    "from sklearn.model_selection import StratifiedKFold\n",
    "import matplotlib.pyplot as plt"
   ]
  },
  {
   "cell_type": "code",
   "execution_count": 2,
   "metadata": {},
   "outputs": [],
   "source": [
    "def run_and_predict(X_train, y_train, X_test, y_test, kind='rf_classifier', pca_n_elements=None):\n",
    "    classifier = create_pipeline(kind=kind, pca_n_elements=pca_n_elements)\n",
    "    classifier.fit(X_train, y_train)\n",
    "    y_pred = classifier.predict(X_test)\n",
    "    \n",
    "    return y_pred"
   ]
  },
  {
   "cell_type": "code",
   "execution_count": 3,
   "metadata": {},
   "outputs": [],
   "source": [
    "def robin_metric(y_true, y_pred):\n",
    "    \"\"\"A metric of accuracy that ignores the class with the highest accuracy.\n",
    "    \n",
    "    Given y_true and y_pred, it calculates a confusion matrix, and then takes\n",
    "    the average of the diagonal elements of the matrix, ignoring the highest value.\n",
    "    This gives us an accuracy of all but the class which is predicted best - which\n",
    "    is useful for imbalanced learning, where one class is always predicted very well.\"\"\"\n",
    "    cm = confusion_matrix(y_true, y_pred)\n",
    "    \n",
    "    # Normalize confusion matrix\n",
    "    cm = cm.astype('float') / cm.sum(axis=1)[:, np.newaxis]\n",
    "    \n",
    "    metric = np.sort(np.diag(cm))[:-1].mean()\n",
    "    \n",
    "    return metric"
   ]
  },
  {
   "cell_type": "code",
   "execution_count": 4,
   "metadata": {},
   "outputs": [],
   "source": [
    "def run_multiple_times(filename, classes, categorised=True, focal=False,\n",
    "                       scale=False, exclude=None, absolute=False, subset=None, use_cols=None,\n",
    "                       kind='rf_classifier', pca_n_elements=None):\n",
    "    df = load_data(filename)\n",
    "    X, y = get_processed_data(df, classes=classes, categorised=categorised, focal=focal,\n",
    "                              scale=scale, exclude=exclude, absolute=absolute, subset=subset,\n",
    "                              use_cols=use_cols)\n",
    "    X = X.values\n",
    "    y = y.values\n",
    "    \n",
    "    metrics = []\n",
    "    conf_matrices = []\n",
    "\n",
    "    for i in range(5):\n",
    "        skf = StratifiedKFold(n_splits=5)\n",
    "        for train_index, test_index in skf.split(X, y):\n",
    "            X_train, X_test = X[train_index], X[test_index]\n",
    "            y_train, y_test = y[train_index], y[test_index]\n",
    "\n",
    "            ros = RandomOverSampler()\n",
    "            X_train, y_train = ros.fit_resample(X_train, y_train)\n",
    "\n",
    "            y_pred = run_and_predict(X_train, y_train, X_test, y_test, kind=kind, pca_n_elements=pca_n_elements)\n",
    "            \n",
    "            metric = robin_metric(y_test, y_pred)\n",
    "            metrics.append(metric)\n",
    "            \n",
    "            cm = confusion_matrix(y_test, y_pred)\n",
    "            conf_matrices.append(cm)\n",
    "            \n",
    "    \n",
    "    mean_metric = np.array(metrics).mean()\n",
    "    sum_cms = np.dstack(conf_matrices).sum(axis=2)\n",
    "    \n",
    "    return mean_metric, sum_cms"
   ]
  },
  {
   "cell_type": "markdown",
   "metadata": {},
   "source": [
    "## Trying PCA n_components but using default (all) columns"
   ]
  },
  {
   "cell_type": "code",
   "execution_count": 7,
   "metadata": {},
   "outputs": [
    {
     "name": "stdout",
     "output_type": "stream",
     "text": [
      "16: 0.7064425856608119\n",
      "15: 0.7077381706497745\n",
      "14: 0.7057995393031962\n",
      "13: 0.7157767828006527\n",
      "12: 0.7166917938381802\n",
      "11: 0.718825290334965\n",
      "10: 0.7201742681639313\n",
      "9: 0.7274962088492178\n",
      "8: 0.727705192436894\n",
      "7: 0.7307131394567616\n",
      "6: 0.5800457433534888\n",
      "5: 0.587385971142464\n",
      "4: 0.5924229868509454\n",
      "3: 0.5841482579902101\n",
      "2: 0.5781643503855137\n",
      "1: 0.5389620788943277\n"
     ]
    }
   ],
   "source": [
    "# With all columns\n",
    "results = []\n",
    "\n",
    "n_elements_list = range(16, 0, -1)\n",
    "\n",
    "for n_elements in n_elements_list:\n",
    "    metric, cm = run_multiple_times('2017_ValidationPts_ALL_Update15March19b_ROBIN.csv',\n",
    "                                    classes=[-2,-0.2, 0.2, 6.5],\n",
    "                                    focal=None, subset='Exposed',\n",
    "                                    kind='gnb_pca_default', pca_n_elements=n_elements)\n",
    "    print(f\"{n_elements}: {metric}\")\n",
    "    results.append({'n_components':n_elements, 'metric':metric})\n",
    "\n",
    "res = pd.DataFrame(results)"
   ]
  },
  {
   "cell_type": "code",
   "execution_count": 9,
   "metadata": {
    "scrolled": true
   },
   "outputs": [
    {
     "data": {
      "text/html": [
       "<div>\n",
       "<style scoped>\n",
       "    .dataframe tbody tr th:only-of-type {\n",
       "        vertical-align: middle;\n",
       "    }\n",
       "\n",
       "    .dataframe tbody tr th {\n",
       "        vertical-align: top;\n",
       "    }\n",
       "\n",
       "    .dataframe thead th {\n",
       "        text-align: right;\n",
       "    }\n",
       "</style>\n",
       "<table border=\"1\" class=\"dataframe\">\n",
       "  <thead>\n",
       "    <tr style=\"text-align: right;\">\n",
       "      <th></th>\n",
       "      <th>metric</th>\n",
       "      <th>n_components</th>\n",
       "    </tr>\n",
       "  </thead>\n",
       "  <tbody>\n",
       "    <tr>\n",
       "      <th>9</th>\n",
       "      <td>0.730713</td>\n",
       "      <td>7</td>\n",
       "    </tr>\n",
       "    <tr>\n",
       "      <th>8</th>\n",
       "      <td>0.727705</td>\n",
       "      <td>8</td>\n",
       "    </tr>\n",
       "    <tr>\n",
       "      <th>7</th>\n",
       "      <td>0.727496</td>\n",
       "      <td>9</td>\n",
       "    </tr>\n",
       "    <tr>\n",
       "      <th>6</th>\n",
       "      <td>0.720174</td>\n",
       "      <td>10</td>\n",
       "    </tr>\n",
       "    <tr>\n",
       "      <th>5</th>\n",
       "      <td>0.718825</td>\n",
       "      <td>11</td>\n",
       "    </tr>\n",
       "    <tr>\n",
       "      <th>4</th>\n",
       "      <td>0.716692</td>\n",
       "      <td>12</td>\n",
       "    </tr>\n",
       "    <tr>\n",
       "      <th>3</th>\n",
       "      <td>0.715777</td>\n",
       "      <td>13</td>\n",
       "    </tr>\n",
       "    <tr>\n",
       "      <th>1</th>\n",
       "      <td>0.707738</td>\n",
       "      <td>15</td>\n",
       "    </tr>\n",
       "    <tr>\n",
       "      <th>0</th>\n",
       "      <td>0.706443</td>\n",
       "      <td>16</td>\n",
       "    </tr>\n",
       "    <tr>\n",
       "      <th>2</th>\n",
       "      <td>0.705800</td>\n",
       "      <td>14</td>\n",
       "    </tr>\n",
       "    <tr>\n",
       "      <th>12</th>\n",
       "      <td>0.592423</td>\n",
       "      <td>4</td>\n",
       "    </tr>\n",
       "    <tr>\n",
       "      <th>11</th>\n",
       "      <td>0.587386</td>\n",
       "      <td>5</td>\n",
       "    </tr>\n",
       "    <tr>\n",
       "      <th>13</th>\n",
       "      <td>0.584148</td>\n",
       "      <td>3</td>\n",
       "    </tr>\n",
       "    <tr>\n",
       "      <th>10</th>\n",
       "      <td>0.580046</td>\n",
       "      <td>6</td>\n",
       "    </tr>\n",
       "    <tr>\n",
       "      <th>14</th>\n",
       "      <td>0.578164</td>\n",
       "      <td>2</td>\n",
       "    </tr>\n",
       "    <tr>\n",
       "      <th>15</th>\n",
       "      <td>0.538962</td>\n",
       "      <td>1</td>\n",
       "    </tr>\n",
       "  </tbody>\n",
       "</table>\n",
       "</div>"
      ],
      "text/plain": [
       "      metric  n_components\n",
       "9   0.730713             7\n",
       "8   0.727705             8\n",
       "7   0.727496             9\n",
       "6   0.720174            10\n",
       "5   0.718825            11\n",
       "4   0.716692            12\n",
       "3   0.715777            13\n",
       "1   0.707738            15\n",
       "0   0.706443            16\n",
       "2   0.705800            14\n",
       "12  0.592423             4\n",
       "11  0.587386             5\n",
       "13  0.584148             3\n",
       "10  0.580046             6\n",
       "14  0.578164             2\n",
       "15  0.538962             1"
      ]
     },
     "execution_count": 9,
     "metadata": {},
     "output_type": "execute_result"
    }
   ],
   "source": [
    "res.sort_values('metric', ascending=False)"
   ]
  },
  {
   "cell_type": "markdown",
   "metadata": {},
   "source": [
    "## Trying PCA n_components using just best columns"
   ]
  },
  {
   "cell_type": "code",
   "execution_count": 11,
   "metadata": {},
   "outputs": [
    {
     "name": "stdout",
     "output_type": "stream",
     "text": [
      "7: 0.7602544773970631\n",
      "6: 0.7616895767348114\n",
      "5: 0.7593048373164412\n",
      "4: 0.743436241481908\n",
      "3: 0.5902819272482964\n",
      "2: 0.5957886073519532\n",
      "1: 0.6108974373740282\n"
     ]
    }
   ],
   "source": [
    "results = []\n",
    "\n",
    "n_elements_list = range(7, 0, -1)\n",
    "\n",
    "for n_elements in n_elements_list:\n",
    "    metric, cm = run_multiple_times('2017_ValidationPts_ALL_Update15March19b_ROBIN.csv',\n",
    "                                    classes=[-2,-0.2, 0.2, 6.5],\n",
    "                                    focal=None, subset='Exposed',\n",
    "                                    kind='gnb_pca_default', pca_n_elements=n_elements,\n",
    "                                    use_cols=['Veg', 'MaxSlope_Focal', 'MinSlope_Focal', 'CQ_Mean', 'DepthRC_JD', 'Shadow', 'Type'])\n",
    "    print(f\"{n_elements}: {metric}\")\n",
    "    results.append({'n_components':n_elements, 'metric':metric})\n",
    "\n",
    "res = pd.DataFrame(results)"
   ]
  },
  {
   "cell_type": "code",
   "execution_count": null,
   "metadata": {},
   "outputs": [],
   "source": []
  }
 ],
 "metadata": {
  "hide_input": false,
  "kernelspec": {
   "display_name": "Python 3",
   "language": "python",
   "name": "python3"
  },
  "language_info": {
   "codemirror_mode": {
    "name": "ipython",
    "version": 3
   },
   "file_extension": ".py",
   "mimetype": "text/x-python",
   "name": "python",
   "nbconvert_exporter": "python",
   "pygments_lexer": "ipython3",
   "version": "3.7.1"
  }
 },
 "nbformat": 4,
 "nbformat_minor": 2
}
