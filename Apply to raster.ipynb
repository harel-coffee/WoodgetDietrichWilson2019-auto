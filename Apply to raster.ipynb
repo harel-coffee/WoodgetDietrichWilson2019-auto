{
 "cells": [
  {
   "cell_type": "markdown",
   "metadata": {},
   "source": [
    "## Apply to raster\n",
    "Applies the ML model to a raster stack of bands. Requires the ML model to have already been created (by 'Get Final Classifier') and a raster stack in exactly the same format and order as the columns used to create the classifier."
   ]
  },
  {
   "cell_type": "code",
   "execution_count": 1,
   "metadata": {},
   "outputs": [],
   "source": [
    "import rasterio\n",
    "import joblib\n",
    "import sklearn\n",
    "import numpy as np\n",
    "\n",
    "from ErrorML.ImageToML import *"
   ]
  },
  {
   "cell_type": "code",
   "execution_count": 2,
   "metadata": {},
   "outputs": [],
   "source": [
    "np.set_printoptions(suppress=True)"
   ]
  },
  {
   "cell_type": "code",
   "execution_count": 10,
   "metadata": {},
   "outputs": [],
   "source": [
    "I2ML = ImageToML()\n",
    "\n",
    "data_for_ml = I2ML.image_to_ml_input('Stacks/2017_Stack_Masked_NewOSGB_NewNoData.tif', band_to_remove=12)"
   ]
  },
  {
   "cell_type": "code",
   "execution_count": 11,
   "metadata": {},
   "outputs": [
    {
     "data": {
      "text/plain": [
       "(25588029, 15)"
      ]
     },
     "execution_count": 11,
     "metadata": {},
     "output_type": "execute_result"
    }
   ],
   "source": [
    "data_for_ml.shape"
   ]
  },
  {
   "cell_type": "code",
   "execution_count": 12,
   "metadata": {},
   "outputs": [
    {
     "data": {
      "text/plain": [
       "False"
      ]
     },
     "execution_count": 12,
     "metadata": {},
     "output_type": "execute_result"
    }
   ],
   "source": [
    "(data_for_ml == -9999).any()"
   ]
  },
  {
   "cell_type": "code",
   "execution_count": null,
   "metadata": {},
   "outputs": [],
   "source": [
    "# with rasterio.open(I2ML.input_filename, 'r') as input_img:\n",
    "#     profile = input_img.profile\n",
    "\n",
    "# with rasterio.open('Stacks/2016_Processed.tif', 'w', **profile) as output_img:\n",
    "#     output_img.write(data_for_ml)"
   ]
  },
  {
   "cell_type": "code",
   "execution_count": null,
   "metadata": {},
   "outputs": [],
   "source": [
    "# data_for_ml[data_for_ml == -9999] = np.nan"
   ]
  },
  {
   "cell_type": "code",
   "execution_count": null,
   "metadata": {},
   "outputs": [],
   "source": [
    "# (data_for_ml == -9999).any()"
   ]
  },
  {
   "cell_type": "code",
   "execution_count": null,
   "metadata": {},
   "outputs": [],
   "source": [
    "# nans = np.isnan(data_for_ml)\n",
    "# any_nans = np.any(nans, axis=0)"
   ]
  },
  {
   "cell_type": "code",
   "execution_count": null,
   "metadata": {},
   "outputs": [],
   "source": [
    "# profile['count'] = 1\n",
    "# profile['dtype'] = 'int8'\n",
    "# profile['nodata'] = -99\n",
    "# with rasterio.open('Stacks/2016_NaNs_1.tif', 'w', **profile) as output_img:\n",
    "#     output_img.write(any_nans.astype(np.int8), 1)"
   ]
  },
  {
   "cell_type": "code",
   "execution_count": 13,
   "metadata": {},
   "outputs": [],
   "source": [
    "classifier = joblib.load('results_newMay2017/classifiers/2017_3class_GNBPCA.jbl')"
   ]
  },
  {
   "cell_type": "code",
   "execution_count": 14,
   "metadata": {},
   "outputs": [
    {
     "name": "stdout",
     "output_type": "stream",
     "text": [
      "CPU times: user 24.5 s, sys: 31.1 s, total: 55.6 s\n",
      "Wall time: 1min 5s\n"
     ]
    }
   ],
   "source": [
    "%time results = classifier.predict(data_for_ml).astype(float)"
   ]
  },
  {
   "cell_type": "code",
   "execution_count": 15,
   "metadata": {},
   "outputs": [],
   "source": [
    "classes_3 = [-2, -0.2, 0.2, 6.5]\n",
    "classes_3_to_worst_case = {0: -2,\n",
    "                           1: -0.2,\n",
    "                           2: 6.5,\n",
    "                           -1: np.nan}\n",
    "\n",
    "classes_3_to_best_case = {0: -0.2,\n",
    "                          1: 0,\n",
    "                          2: 0.2,\n",
    "                          -1: np.nan}"
   ]
  },
  {
   "cell_type": "code",
   "execution_count": 16,
   "metadata": {},
   "outputs": [],
   "source": [
    "def reclassify(arr, d):\n",
    "    result = np.full_like(arr, 9999)\n",
    "    for from_val, to_val in d.items():\n",
    "        result[arr == from_val] = to_val\n",
    "    \n",
    "    return result"
   ]
  },
  {
   "cell_type": "code",
   "execution_count": 17,
   "metadata": {},
   "outputs": [
    {
     "data": {
      "text/plain": [
       "0"
      ]
     },
     "execution_count": 17,
     "metadata": {},
     "output_type": "execute_result"
    }
   ],
   "source": [
    "(results == -1).sum()"
   ]
  },
  {
   "cell_type": "code",
   "execution_count": 18,
   "metadata": {},
   "outputs": [],
   "source": [
    "results_best_case = reclassify(results, classes_3_to_best_case)\n",
    "\n",
    "results_worst_case = reclassify(results, classes_3_to_worst_case)\n",
    "\n",
    "I2ML.ml_output_to_image(results_best_case, 'results_newMay2017/output_images/2017_results_3class_best_case.tif')\n",
    "\n",
    "I2ML.ml_output_to_image(results_worst_case, 'results_newMay2017/output_images/2017_results_3class_worst_case.tif')"
   ]
  },
  {
   "cell_type": "code",
   "execution_count": null,
   "metadata": {},
   "outputs": [],
   "source": []
  }
 ],
 "metadata": {
  "hide_input": false,
  "kernelspec": {
   "display_name": "Python 3",
   "language": "python",
   "name": "python3"
  },
  "language_info": {
   "codemirror_mode": {
    "name": "ipython",
    "version": 3
   },
   "file_extension": ".py",
   "mimetype": "text/x-python",
   "name": "python",
   "nbconvert_exporter": "python",
   "pygments_lexer": "ipython3",
   "version": "3.7.1"
  }
 },
 "nbformat": 4,
 "nbformat_minor": 2
}
