{
 "cells": [
  {
   "cell_type": "markdown",
   "metadata": {},
   "source": [
    "## Initial ML investigations\n",
    "This is the very first investigations we did into how ML could help us predict Z_diff. This does *not* use the ErrorML library, as it predates that. Basically just some investigations of various types of regression."
   ]
  },
  {
   "cell_type": "code",
   "execution_count": 1,
   "metadata": {},
   "outputs": [],
   "source": [
    "import numpy as np\n",
    "import pandas as pd\n",
    "import matplotlib.pyplot as plt\n",
    "%matplotlib inline"
   ]
  },
  {
   "cell_type": "code",
   "execution_count": 3,
   "metadata": {},
   "outputs": [],
   "source": [
    "from sklearn.pipeline import Pipeline, make_pipeline\n",
    "from sklearn.preprocessing import PolynomialFeatures\n",
    "from sklearn.ensemble import RandomForestRegressor\n",
    "from sklearn.svm import SVR\n",
    "from sklearn.linear_model import LinearRegression, Lasso, Ridge, RidgeCV, LassoLarsCV\n",
    "from sklearn import ensemble\n",
    "from sklearn.model_selection import KFold, cross_val_score\n",
    "from sklearn.metrics import mean_absolute_error, r2_score"
   ]
  },
  {
   "cell_type": "code",
   "execution_count": 4,
   "metadata": {},
   "outputs": [],
   "source": [
    "# From https://medium.com/dunder-data/from-pandas-to-scikit-learn-a-new-exciting-workflow-e88e2271ef62\n",
    "from sklearn.base import BaseEstimator\n",
    "class BasicTransformer(BaseEstimator):\n",
    "    \n",
    "    def __init__(self, cat_threshold=None, num_strategy='median',\n",
    "                 return_df=False):\n",
    "        # store parameters as public attributes\n",
    "        self.cat_threshold = cat_threshold\n",
    "        \n",
    "        if num_strategy not in ['mean', 'median']:\n",
    "            raise ValueError('num_strategy must be either \"mean\" or '\n",
    "                             '\"median\"')\n",
    "        self.num_strategy = num_strategy\n",
    "        self.return_df = return_df\n",
    "        \n",
    "    def fit(self, X, y=None):\n",
    "        # Assumes X is a DataFrame\n",
    "        self._columns = X.columns.values\n",
    "        \n",
    "        # Split data into categorical and numeric\n",
    "        self._dtypes = X.dtypes.values\n",
    "        self._kinds = np.array([dt.kind for dt in X.dtypes])\n",
    "        self._column_dtypes = {}\n",
    "        is_cat = self._kinds == 'O'\n",
    "        self._column_dtypes['cat'] = self._columns[is_cat]\n",
    "        self._column_dtypes['num'] = self._columns[~is_cat]\n",
    "        self._feature_names = self._column_dtypes['num']\n",
    "        \n",
    "        # Create a dictionary mapping categorical column to unique \n",
    "        # values above threshold\n",
    "        self._cat_cols = {}\n",
    "        for col in self._column_dtypes['cat']:\n",
    "            vc = X[col].value_counts()\n",
    "            if self.cat_threshold is not None:\n",
    "                vc = vc[vc > self.cat_threshold]\n",
    "            vals = vc.index.values\n",
    "            self._cat_cols[col] = vals\n",
    "            self._feature_names = np.append(self._feature_names, col \n",
    "                                            + '_' + vals)\n",
    "            \n",
    "        # get total number of new categorical columns    \n",
    "        self._total_cat_cols = sum([len(v) for col, v in \n",
    "                                    self._cat_cols.items()])\n",
    "        \n",
    "        # get mean or median\n",
    "        num_cols = self._column_dtypes['num']\n",
    "        self._num_fill = X[num_cols].agg(self.num_strategy)\n",
    "        return self\n",
    "        \n",
    "    def transform(self, X):\n",
    "        # check that we have a DataFrame with same column names as \n",
    "        # the one we fit\n",
    "        if set(self._columns) != set(X.columns):\n",
    "            raise ValueError('Passed DataFrame has different columns '\n",
    "                              'than fit DataFrame')\n",
    "        elif len(self._columns) != len(X.columns):\n",
    "            raise ValueError('Passed DataFrame has different number '\n",
    "                              'of columns than fit DataFrame')\n",
    "            \n",
    "        # fill missing values\n",
    "        num_cols = self._column_dtypes['num']\n",
    "        X_num = X[num_cols].fillna(self._num_fill)\n",
    "        \n",
    "        # Standardize numerics\n",
    "        std = X_num.std()\n",
    "        X_num = (X_num - X_num.mean()) / std\n",
    "        zero_std = np.where(std == 0)[0]\n",
    "        \n",
    "        # If there is 0 standard deviation, then all values are the \n",
    "        # same. Set them to 0.\n",
    "        if len(zero_std) > 0:\n",
    "            X_num.iloc[:, zero_std] = 0\n",
    "        X_num = X_num.values\n",
    "        \n",
    "        # create separate array for new encoded categoricals\n",
    "        X_cat = np.empty((len(X), self._total_cat_cols), \n",
    "                         dtype='int')\n",
    "        i = 0\n",
    "        for col in self._column_dtypes['cat']:\n",
    "            vals = self._cat_cols[col]\n",
    "            for val in vals:\n",
    "                X_cat[:, i] = X[col] == val\n",
    "                i += 1\n",
    "                \n",
    "        # concatenate transformed numeric and categorical arrays\n",
    "        data = np.column_stack((X_num, X_cat))\n",
    "        \n",
    "        # return either a DataFrame or an array\n",
    "        if self.return_df:\n",
    "            return pd.DataFrame(data=data, \n",
    "                                columns=self._feature_names)\n",
    "        else:\n",
    "            return data\n",
    "    \n",
    "    def fit_transform(self, X, y=None):\n",
    "        return self.fit(X).transform(X)\n",
    "    \n",
    "    def get_feature_names():\n",
    "        return self._feature_names"
   ]
  },
  {
   "cell_type": "code",
   "execution_count": 26,
   "metadata": {},
   "outputs": [],
   "source": [
    "df = pd.read_csv('2016_ValidationPts_ALL_Python.csv', na_values='-9999.0')"
   ]
  },
  {
   "cell_type": "code",
   "execution_count": 27,
   "metadata": {},
   "outputs": [
    {
     "data": {
      "text/plain": [
       "1522"
      ]
     },
     "execution_count": 27,
     "metadata": {},
     "output_type": "execute_result"
    }
   ],
   "source": [
    "len(df)"
   ]
  },
  {
   "cell_type": "code",
   "execution_count": 28,
   "metadata": {},
   "outputs": [
    {
     "data": {
      "text/plain": [
       "Index(['Z_diff', 'Z_diff_foc', 'Slope', 'MaxSl_Foc', 'Rough40cm', 'Rough40Foc',\n",
       "       'CQ_Mean', 'CQmean_Foc', 'VEG_TREES', 'DoD', 'Pt_Density',\n",
       "       'DepthRC_JD'],\n",
       "      dtype='object')"
      ]
     },
     "execution_count": 28,
     "metadata": {},
     "output_type": "execute_result"
    }
   ],
   "source": [
    "df.columns"
   ]
  },
  {
   "cell_type": "code",
   "execution_count": 29,
   "metadata": {},
   "outputs": [],
   "source": [
    "df = df[['Z_diff', 'Slope', 'MaxSl_Foc', 'Rough40cm', 'Rough40Foc',\n",
    "       'CQ_Mean', 'CQmean_Foc', 'VEG_TREES', 'Pt_Density',\n",
    "       'DepthRC_JD']]"
   ]
  },
  {
   "cell_type": "code",
   "execution_count": 30,
   "metadata": {},
   "outputs": [],
   "source": [
    "df = df.sample(frac=1)"
   ]
  },
  {
   "cell_type": "code",
   "execution_count": 31,
   "metadata": {},
   "outputs": [],
   "source": [
    "y = df.pop('Z_diff').values\n",
    "\n",
    "y_train = y[:1200]\n",
    "y_test = y[1200:]\n",
    "\n",
    "X = df\n",
    "\n",
    "X_train = X.iloc[:1200]\n",
    "X_test = X.iloc[1200:]"
   ]
  },
  {
   "cell_type": "code",
   "execution_count": 32,
   "metadata": {},
   "outputs": [],
   "source": [
    "bt = BasicTransformer(cat_threshold=3, return_df=True)"
   ]
  },
  {
   "cell_type": "code",
   "execution_count": 33,
   "metadata": {},
   "outputs": [],
   "source": [
    "def run_cross_val(pipeline):\n",
    "    kf = KFold(n_splits=5, shuffle=True, random_state=1234)\n",
    "    abs_error = cross_val_score(pipeline, X_train, y_train, cv=kf, scoring='neg_mean_absolute_error').mean()*-1\n",
    "    print('Absolute error: %f' % abs_error)\n",
    "    r2 = cross_val_score(pipeline, X_train, y_train, cv=kf, scoring='r2').mean()\n",
    "    print('R2: %f' % r2)"
   ]
  },
  {
   "cell_type": "markdown",
   "metadata": {},
   "source": [
    "# Z_diff statistics (for comparison)"
   ]
  },
  {
   "cell_type": "code",
   "execution_count": 34,
   "metadata": {},
   "outputs": [
    {
     "data": {
      "text/plain": [
       "count    1522.000000\n",
       "mean        0.026402\n",
       "std         0.243286\n",
       "min        -1.710000\n",
       "25%        -0.008000\n",
       "50%         0.040000\n",
       "75%         0.094000\n",
       "max         4.482000\n",
       "dtype: float64"
      ]
     },
     "execution_count": 34,
     "metadata": {},
     "output_type": "execute_result"
    }
   ],
   "source": [
    "pd.Series(y).describe()"
   ]
  },
  {
   "cell_type": "code",
   "execution_count": 35,
   "metadata": {},
   "outputs": [
    {
     "data": {
      "text/plain": [
       "count    1522.000000\n",
       "mean        0.116121\n",
       "std         0.215389\n",
       "min         0.000000\n",
       "25%         0.028000\n",
       "50%         0.059000\n",
       "75%         0.118000\n",
       "max         4.482000\n",
       "dtype: float64"
      ]
     },
     "execution_count": 35,
     "metadata": {},
     "output_type": "execute_result"
    }
   ],
   "source": [
    "pd.Series(y).abs().describe()"
   ]
  },
  {
   "cell_type": "markdown",
   "metadata": {},
   "source": [
    "# Linear Regression (using all variables)"
   ]
  },
  {
   "cell_type": "code",
   "execution_count": 36,
   "metadata": {},
   "outputs": [
    {
     "name": "stdout",
     "output_type": "stream",
     "text": [
      "Absolute error: 0.120053\n",
      "R2: 0.066271\n"
     ]
    }
   ],
   "source": [
    "lr_pipe = Pipeline([('bt', bt), ('lr', LinearRegression())])\n",
    "run_cross_val(lr_pipe)"
   ]
  },
  {
   "cell_type": "code",
   "execution_count": 37,
   "metadata": {
    "scrolled": true
   },
   "outputs": [
    {
     "data": {
      "text/plain": [
       "VEG_TREES_Veg&Trees    0.328790\n",
       "Rough40Foc             0.055447\n",
       "DepthRC_JD             0.013462\n",
       "CQ_Mean                0.001160\n",
       "Slope                  0.000905\n",
       "VEG_TREES_Tall Veg    -0.004499\n",
       "CQmean_Foc            -0.007879\n",
       "Rough40cm             -0.015769\n",
       "Pt_Density            -0.025493\n",
       "MaxSl_Foc             -0.097636\n",
       "dtype: float64"
      ]
     },
     "execution_count": 37,
     "metadata": {},
     "output_type": "execute_result"
    }
   ],
   "source": [
    "lr_pipe.fit(X_train, y_train)\n",
    "\n",
    "coef = lr_pipe.named_steps.lr.coef_\n",
    "X_transformed = bt.transform(X)\n",
    "\n",
    "lr_importances = pd.Series(coef, index=X_transformed.columns).sort_values(ascending=False)\n",
    "lr_importances.head(10)"
   ]
  },
  {
   "cell_type": "code",
   "execution_count": 38,
   "metadata": {},
   "outputs": [
    {
     "data": {
      "text/plain": [
       "11"
      ]
     },
     "execution_count": 38,
     "metadata": {},
     "output_type": "execute_result"
    }
   ],
   "source": [
    "# How many parameters overall?\n",
    "len(X_transformed.columns)"
   ]
  },
  {
   "cell_type": "code",
   "execution_count": 39,
   "metadata": {},
   "outputs": [
    {
     "name": "stdout",
     "output_type": "stream",
     "text": [
      "MAE on test set: 0.098666\n"
     ]
    }
   ],
   "source": [
    "y_test_pred = lr_pipe.predict(X_test)\n",
    "mae = mean_absolute_error(y_test_pred, y_test)\n",
    "print('MAE on test set: %f' % mae)"
   ]
  },
  {
   "cell_type": "markdown",
   "metadata": {},
   "source": [
    "# Ridge Regression"
   ]
  },
  {
   "cell_type": "code",
   "execution_count": 40,
   "metadata": {
    "scrolled": true
   },
   "outputs": [
    {
     "name": "stdout",
     "output_type": "stream",
     "text": [
      "Absolute error: 0.117940\n",
      "R2: 0.105656\n"
     ]
    }
   ],
   "source": [
    "ridge_pipe = Pipeline([('bt', bt), ('ridge', RidgeCV())])\n",
    "run_cross_val(ridge_pipe)"
   ]
  },
  {
   "cell_type": "code",
   "execution_count": 41,
   "metadata": {},
   "outputs": [
    {
     "data": {
      "text/plain": [
       "VEG_TREES_Veg&Trees    0.197594\n",
       "Rough40Foc             0.054874\n",
       "VEG_TREES_Tall Veg     0.051260\n",
       "DepthRC_JD             0.012626\n",
       "Slope                  0.000837\n",
       "CQmean_Foc             0.000790\n",
       "CQ_Mean               -0.006796\n",
       "Rough40cm             -0.017225\n",
       "Pt_Density            -0.026036\n",
       "MaxSl_Foc             -0.092447\n",
       "dtype: float64"
      ]
     },
     "execution_count": 41,
     "metadata": {},
     "output_type": "execute_result"
    }
   ],
   "source": [
    "ridge_pipe.fit(X_train, y_train)\n",
    "coef = ridge_pipe.named_steps.ridge.coef_\n",
    "\n",
    "X_transformed = bt.transform(X_train)\n",
    "\n",
    "ridge_importances = pd.Series(coef, index=X_transformed.columns).sort_values(ascending=False)\n",
    "ridge_importances.head(10)"
   ]
  },
  {
   "cell_type": "markdown",
   "metadata": {},
   "source": [
    "# Random Forests"
   ]
  },
  {
   "cell_type": "code",
   "execution_count": 46,
   "metadata": {},
   "outputs": [
    {
     "name": "stdout",
     "output_type": "stream",
     "text": [
      "Absolute error: 0.103703\n",
      "R2: 0.217898\n"
     ]
    }
   ],
   "source": [
    "rf_pipe = Pipeline([('bt', bt), ('rf', RandomForestRegressor(n_estimators=500))])\n",
    "run_cross_val(rf_pipe)"
   ]
  },
  {
   "cell_type": "code",
   "execution_count": 23,
   "metadata": {},
   "outputs": [
    {
     "data": {
      "text/plain": [
       "MaxSl_Foc              1.000000\n",
       "VEG_TREES_Veg&Trees    0.445008\n",
       "Slope                  0.336401\n",
       "Pt_Density             0.318932\n",
       "Rough40cm              0.287213\n",
       "CQ_Mean                0.267676\n",
       "Rough40Foc             0.246196\n",
       "CQmean_Foc             0.185877\n",
       "VEG_TREES_N/a          0.117101\n",
       "VEG_TREES_Tall Veg     0.042342\n",
       "dtype: float64"
      ]
     },
     "execution_count": 23,
     "metadata": {},
     "output_type": "execute_result"
    }
   ],
   "source": [
    "rf_pipe.fit(X_train, y_train)\n",
    "imps = rf_pipe.named_steps.rf.feature_importances_ / rf_pipe.named_steps.rf.feature_importances_.max()\n",
    "\n",
    "X_transformed = bt.transform(X)\n",
    "rf_importances = pd.Series(imps, index=X_transformed.columns).sort_values(ascending=False)\n",
    "rf_importances.head(10)\n",
    "# list(X_transformed.columns[np.argsort(imps)[::-1]])[:10]"
   ]
  },
  {
   "cell_type": "markdown",
   "metadata": {},
   "source": [
    "# LassoLarsCV"
   ]
  },
  {
   "cell_type": "code",
   "execution_count": 24,
   "metadata": {},
   "outputs": [
    {
     "name": "stdout",
     "output_type": "stream",
     "text": [
      "Absolute error: 0.109366\n",
      "R2: 0.196412\n"
     ]
    }
   ],
   "source": [
    "ll_pipe = Pipeline([('bt', bt), ('ll', LassoLarsCV(normalize=False))])\n",
    "run_cross_val(ll_pipe)"
   ]
  },
  {
   "cell_type": "code",
   "execution_count": 23,
   "metadata": {},
   "outputs": [
    {
     "data": {
      "text/plain": [
       "DepthRC_JD             0.017322\n",
       "CQ_Min                 0.004342\n",
       "VEG_TREES_Veg&Trees    0.000000\n",
       "VEG_TREES_Tall Veg     0.000000\n",
       "Type_Submerged         0.000000\n",
       "Type_Exposed           0.000000\n",
       "Rough40cm              0.000000\n",
       "Slope                  0.000000\n",
       "CQ_Mean               -0.005353\n",
       "Pt_Density            -0.015824\n",
       "dtype: float64"
      ]
     },
     "execution_count": 23,
     "metadata": {},
     "output_type": "execute_result"
    }
   ],
   "source": [
    "ll_pipe.fit(X_train, y_train)\n",
    "\n",
    "coef = ll_pipe.named_steps.ll.coef_\n",
    "\n",
    "X_transformed = bt.transform(X_train)\n",
    "\n",
    "ridge_importances = pd.Series(coef, index=X_transformed.columns).sort_values(ascending=False)\n",
    "ridge_importances.head(10)"
   ]
  },
  {
   "cell_type": "markdown",
   "metadata": {},
   "source": [
    "# Gradient Boosted Regression"
   ]
  },
  {
   "cell_type": "code",
   "execution_count": 24,
   "metadata": {},
   "outputs": [],
   "source": [
    "params = {'n_estimators': 500, 'max_depth': 4, 'min_samples_split': 2,\n",
    "          'learning_rate': 0.01, 'loss': 'ls'}\n",
    "gbr = ensemble.GradientBoostingRegressor(**params)\n",
    "gbr_pipe = Pipeline([('bt', bt), ('gbr', gbr)])"
   ]
  },
  {
   "cell_type": "code",
   "execution_count": 25,
   "metadata": {},
   "outputs": [
    {
     "name": "stdout",
     "output_type": "stream",
     "text": [
      "Absolute error: 0.105124\n",
      "R2: -0.316943\n"
     ]
    }
   ],
   "source": [
    "from sklearn.model_selection import KFold, cross_val_score\n",
    "kf = KFold(n_splits=5, shuffle=True, random_state=1234)\n",
    "abs_error = cross_val_score(gbr_pipe, X_train, y_train, cv=kf, scoring='neg_mean_absolute_error').mean()*-1\n",
    "print('Absolute error: %f' % abs_error)\n",
    "r2 = cross_val_score(gbr_pipe, X_train, y_train, cv=kf, scoring='r2').mean()\n",
    "print('R2: %f' % r2)"
   ]
  },
  {
   "cell_type": "code",
   "execution_count": 140,
   "metadata": {},
   "outputs": [
    {
     "data": {
      "text/plain": [
       "MaxSl_Foc     1.000000\n",
       "Z_RCDEM_JD    0.752454\n",
       "Slope         0.266270\n",
       "Rough10cm     0.246619\n",
       "Rough50cm     0.213466\n",
       "Pt_Density    0.206300\n",
       "Rough30cm     0.167539\n",
       "Rough20cm     0.156715\n",
       "Rough40cm     0.107154\n",
       "DepthRC_JD    0.084141\n",
       "dtype: float64"
      ]
     },
     "execution_count": 140,
     "metadata": {},
     "output_type": "execute_result"
    }
   ],
   "source": [
    "gbr_pipe.fit(X_train, y_train)\n",
    "imps = gbr_pipe.named_steps.gbr.feature_importances_ / gbr_pipe.named_steps.gbr.feature_importances_.max()\n",
    "\n",
    "X_transformed = bt.transform(X)\n",
    "gbr_importances = pd.Series(imps, index=X_transformed.columns).sort_values(ascending=False)\n",
    "gbr_importances.head(10)\n",
    "# list(X_transformed.columns[np.argsort(imps)[::-1]])[:10]"
   ]
  },
  {
   "cell_type": "code",
   "execution_count": null,
   "metadata": {},
   "outputs": [],
   "source": []
  },
  {
   "cell_type": "code",
   "execution_count": null,
   "metadata": {},
   "outputs": [],
   "source": []
  },
  {
   "cell_type": "markdown",
   "metadata": {},
   "source": [
    "# Anomaly detection"
   ]
  },
  {
   "cell_type": "code",
   "execution_count": 141,
   "metadata": {},
   "outputs": [],
   "source": [
    "isolf = ensemble.IsolationForest(max_samples=100,\n",
    "                                 contamination=0.05)\n",
    "ifpipe = Pipeline([('bt', bt), ('isolf', isolf)])"
   ]
  },
  {
   "cell_type": "code",
   "execution_count": 142,
   "metadata": {},
   "outputs": [],
   "source": [
    "ifpipe.fit(X)\n",
    "pred = ifpipe.predict(X)"
   ]
  },
  {
   "cell_type": "code",
   "execution_count": 143,
   "metadata": {},
   "outputs": [
    {
     "data": {
      "text/plain": [
       "77"
      ]
     },
     "execution_count": 143,
     "metadata": {},
     "output_type": "execute_result"
    }
   ],
   "source": [
    "len(pred[pred==-1])"
   ]
  },
  {
   "cell_type": "code",
   "execution_count": 144,
   "metadata": {},
   "outputs": [],
   "source": [
    "df['Outlier'] = pred==-1"
   ]
  },
  {
   "cell_type": "code",
   "execution_count": 145,
   "metadata": {},
   "outputs": [],
   "source": [
    "import seaborn as sns"
   ]
  },
  {
   "cell_type": "code",
   "execution_count": 147,
   "metadata": {},
   "outputs": [],
   "source": [
    "df['Z_diff'] = y"
   ]
  },
  {
   "cell_type": "code",
   "execution_count": 148,
   "metadata": {},
   "outputs": [
    {
     "data": {
      "text/plain": [
       "<matplotlib.axes._subplots.AxesSubplot at 0x1a212b2ba8>"
      ]
     },
     "execution_count": 148,
     "metadata": {},
     "output_type": "execute_result"
    },
    {
     "data": {
      "image/png": "[encoded data removed]",
      "text/plain": [
       "<Figure size 432x288 with 1 Axes>"
      ]
     },
     "metadata": {},
     "output_type": "display_data"
    }
   ],
   "source": [
    "sns.scatterplot(x='Z_RCDEM_JD', y='Z_diff', hue='Outlier', data=df)"
   ]
  },
  {
   "cell_type": "markdown",
   "metadata": {},
   "source": [
    "# TPOT"
   ]
  },
  {
   "cell_type": "code",
   "execution_count": 26,
   "metadata": {},
   "outputs": [],
   "source": [
    "bt = BasicTransformer(cat_threshold=3, return_df=True)"
   ]
  },
  {
   "cell_type": "code",
   "execution_count": 30,
   "metadata": {},
   "outputs": [],
   "source": [
    "subdf = pd.read_csv('2016_ValidationPoints_ALL_AppendedData2_Robin.csv', na_values='-9999.0')"
   ]
  },
  {
   "cell_type": "code",
   "execution_count": 31,
   "metadata": {},
   "outputs": [],
   "source": [
    "tpot_y = subdf.pop('Z_diff').values\n",
    "tpot_y_train = tpot_y[:1200]\n",
    "tpot_y_test = tpot_y[1200:]"
   ]
  },
  {
   "cell_type": "code",
   "execution_count": 32,
   "metadata": {},
   "outputs": [],
   "source": [
    "transformed_df = bt.fit_transform(subdf)"
   ]
  },
  {
   "cell_type": "code",
   "execution_count": 33,
   "metadata": {},
   "outputs": [],
   "source": [
    "\n",
    "\n",
    "tpot_X = transformed_df.astype(float)\n",
    "\n",
    "tpot_X_train = tpot_X.iloc[:1200]\n",
    "tpot_X_test = tpot_X.iloc[1200:]"
   ]
  },
  {
   "cell_type": "code",
   "execution_count": 34,
   "metadata": {},
   "outputs": [],
   "source": [
    "from tpot import TPOTRegressor"
   ]
  },
  {
   "cell_type": "code",
   "execution_count": 35,
   "metadata": {},
   "outputs": [],
   "source": [
    "tpot = TPOTRegressor(verbosity=2, population_size=100, scoring='neg_mean_absolute_error')"
   ]
  },
  {
   "cell_type": "code",
   "execution_count": 36,
   "metadata": {},
   "outputs": [
    {
     "data": {
      "application/vnd.jupyter.widget-view+json": {
       "model_id": "ffdd755dd64840b0807b74e074db7872",
       "version_major": 2,
       "version_minor": 0
      },
      "text/html": [
       "<p>Failed to display Jupyter Widget of type <code>HBox</code>.</p>\n",
       "<p>\n",
       "  If you're reading this message in the Jupyter Notebook or JupyterLab Notebook, it may mean\n",
       "  that the widgets JavaScript is still loading. If this message persists, it\n",
       "  likely means that the widgets JavaScript library is either not installed or\n",
       "  not enabled. See the <a href=\"https://ipywidgets.readthedocs.io/en/stable/user_install.html\">Jupyter\n",
       "  Widgets Documentation</a> for setup instructions.\n",
       "</p>\n",
       "<p>\n",
       "  If you're reading this message in another frontend (for example, a static\n",
       "  rendering on GitHub or <a href=\"https://nbviewer.jupyter.org/\">NBViewer</a>),\n",
       "  it may mean that your frontend doesn't currently support widgets.\n",
       "</p>\n"
      ],
      "text/plain": [
       "HBox(children=(IntProgress(value=0, description='Optimization Progress', max=10100), HTML(value='')))"
      ]
     },
     "metadata": {},
     "output_type": "display_data"
    },
    {
     "name": "stdout",
     "output_type": "stream",
     "text": [
      "Generation 1 - Current best internal CV score: -0.08676159480111559\n",
      "\n",
      "\n",
      "TPOT closed prematurely. Will use the current best pipeline.\n",
      "\n",
      "Best pipeline: RandomForestRegressor(PolynomialFeatures(input_matrix, degree=2, include_bias=False, interaction_only=False), bootstrap=False, max_features=0.25, min_samples_leaf=18, min_samples_split=12, n_estimators=100)\n"
     ]
    },
    {
     "data": {
      "text/plain": [
       "TPOTRegressor(config_dict=None, crossover_rate=0.1, cv=5,\n",
       "       disable_update_check=False, early_stop=None, generations=100,\n",
       "       max_eval_time_mins=5, max_time_mins=None, memory=None,\n",
       "       mutation_rate=0.9, n_jobs=1, offspring_size=None,\n",
       "       periodic_checkpoint_folder=None, population_size=100,\n",
       "       random_state=None, scoring='neg_mean_absolute_error', subsample=1.0,\n",
       "       use_dask=False, verbosity=2, warm_start=False)"
      ]
     },
     "execution_count": 36,
     "metadata": {},
     "output_type": "execute_result"
    }
   ],
   "source": [
    "tpot.fit(tpot_X_train, tpot_y_train)"
   ]
  },
  {
   "cell_type": "code",
   "execution_count": null,
   "metadata": {},
   "outputs": [],
   "source": []
  },
  {
   "cell_type": "code",
   "execution_count": 93,
   "metadata": {},
   "outputs": [
    {
     "data": {
      "text/plain": [
       "-0.020144319690117565"
      ]
     },
     "execution_count": 93,
     "metadata": {},
     "output_type": "execute_result"
    }
   ],
   "source": [
    "tpot.score(tpot_X_test, tpot_y_test)"
   ]
  },
  {
   "cell_type": "code",
   "execution_count": 102,
   "metadata": {},
   "outputs": [],
   "source": [
    "pred = tpot.predict(tpot_X_test)"
   ]
  },
  {
   "cell_type": "code",
   "execution_count": 103,
   "metadata": {},
   "outputs": [
    {
     "data": {
      "text/plain": [
       "0.08934534474682052"
      ]
     },
     "execution_count": 103,
     "metadata": {},
     "output_type": "execute_result"
    }
   ],
   "source": [
    "mean_absolute_error(pred, tpot_y_test)"
   ]
  },
  {
   "cell_type": "code",
   "execution_count": 94,
   "metadata": {},
   "outputs": [
    {
     "data": {
      "text/plain": [
       "True"
      ]
     },
     "execution_count": 94,
     "metadata": {},
     "output_type": "execute_result"
    }
   ],
   "source": [
    "tpot.export('tpot_2min_test_1.py')"
   ]
  },
  {
   "cell_type": "code",
   "execution_count": 95,
   "metadata": {},
   "outputs": [],
   "source": [
    "# LassoLarsCV(PolynomialFeatures(LinearSVR(input_matrix, C=15.0, dual=True, epsilon=0.1, loss=squared_epsilon_insensitive, tol=0.01), degree=2, include_bias=False, interaction_only=False), normalize=False)"
   ]
  },
  {
   "cell_type": "code",
   "execution_count": 96,
   "metadata": {},
   "outputs": [
    {
     "name": "stdout",
     "output_type": "stream",
     "text": [
      "import numpy as np\r\n",
      "import pandas as pd\r\n",
      "from sklearn.linear_model import LassoLarsCV, RidgeCV\r\n",
      "from sklearn.model_selection import train_test_split\r\n",
      "from sklearn.pipeline import make_pipeline, make_union\r\n",
      "from sklearn.preprocessing import MaxAbsScaler, PolynomialFeatures\r\n",
      "from tpot.builtins import StackingEstimator\r\n",
      "\r\n",
      "# NOTE: Make sure that the class is labeled 'target' in the data file\r\n",
      "tpot_data = pd.read_csv('PATH/TO/DATA/FILE', sep='COLUMN_SEPARATOR', dtype=np.float64)\r\n",
      "features = tpot_data.drop('target', axis=1).values\r\n",
      "training_features, testing_features, training_target, testing_target = \\\r\n",
      "            train_test_split(features, tpot_data['target'].values, random_state=None)\r\n",
      "\r\n",
      "# Average CV score on the training set was:-0.025640623302305182\r\n",
      "exported_pipeline = make_pipeline(\r\n",
      "    MaxAbsScaler(),\r\n",
      "    StackingEstimator(estimator=RidgeCV()),\r\n",
      "    StackingEstimator(estimator=RidgeCV()),\r\n",
      "    PolynomialFeatures(degree=2, include_bias=False, interaction_only=False),\r\n",
      "    LassoLarsCV(normalize=False)\r\n",
      ")\r\n",
      "\r\n",
      "exported_pipeline.fit(training_features, training_target)\r\n",
      "results = exported_pipeline.predict(testing_features)\r\n"
     ]
    }
   ],
   "source": [
    "!cat tpot_2min_test_1.py"
   ]
  },
  {
   "cell_type": "markdown",
   "metadata": {},
   "source": [
    "# TPOT LassoLarsCV"
   ]
  },
  {
   "cell_type": "code",
   "execution_count": 149,
   "metadata": {},
   "outputs": [],
   "source": [
    "ll = LassoLarsCV(normalize=False)"
   ]
  },
  {
   "cell_type": "code",
   "execution_count": 150,
   "metadata": {},
   "outputs": [
    {
     "name": "stderr",
     "output_type": "stream",
     "text": [
      "/Users/robin/anaconda3/lib/python3.6/site-packages/sklearn/linear_model/least_angle.py:339: ConvergenceWarning: Early stopping the lars path, as the residues are small and the current value of alpha is no longer well controlled. 30 iterations, alpha=4.852e-04, previous alpha=4.852e-04, with an active set of 25 regressors.\n",
      "  ConvergenceWarning)\n"
     ]
    },
    {
     "data": {
      "text/plain": [
       "LassoLarsCV(copy_X=True, cv=None, eps=2.220446049250313e-16,\n",
       "      fit_intercept=True, max_iter=500, max_n_alphas=1000, n_jobs=1,\n",
       "      normalize=False, positive=False, precompute='auto', verbose=False)"
      ]
     },
     "execution_count": 150,
     "metadata": {},
     "output_type": "execute_result"
    }
   ],
   "source": [
    "ll.fit(tpot_X_train, tpot_y_train)"
   ]
  },
  {
   "cell_type": "code",
   "execution_count": 151,
   "metadata": {},
   "outputs": [],
   "source": [
    "results = ll.predict(tpot_X_test)"
   ]
  },
  {
   "cell_type": "code",
   "execution_count": 152,
   "metadata": {},
   "outputs": [
    {
     "data": {
      "text/plain": [
       "array([ 0.04663139, -0.32966983,  0.05098763,  0.03650263,  0.08366404,\n",
       "        0.20051032,  0.03451342,  0.13963269,  0.05157179,  0.18154771])"
      ]
     },
     "execution_count": 152,
     "metadata": {},
     "output_type": "execute_result"
    }
   ],
   "source": [
    "results[:10]"
   ]
  },
  {
   "cell_type": "code",
   "execution_count": 153,
   "metadata": {},
   "outputs": [
    {
     "data": {
      "text/plain": [
       "array([ 0.094, -0.887,  0.03 ,  0.17 , -0.067,  0.115, -0.009,  0.054,\n",
       "       -0.001,  0.049])"
      ]
     },
     "execution_count": 153,
     "metadata": {},
     "output_type": "execute_result"
    }
   ],
   "source": [
    "tpot_y_test[:10]"
   ]
  },
  {
   "cell_type": "code",
   "execution_count": 154,
   "metadata": {},
   "outputs": [
    {
     "data": {
      "text/plain": [
       "0.11758316224510458"
      ]
     },
     "execution_count": 154,
     "metadata": {},
     "output_type": "execute_result"
    }
   ],
   "source": [
    "mean_absolute_error(tpot_y_test, results)"
   ]
  },
  {
   "cell_type": "code",
   "execution_count": 155,
   "metadata": {},
   "outputs": [
    {
     "data": {
      "text/plain": [
       "0.2292388130676558"
      ]
     },
     "execution_count": 155,
     "metadata": {},
     "output_type": "execute_result"
    }
   ],
   "source": [
    "r2_score(tpot_y_test, results)"
   ]
  },
  {
   "cell_type": "code",
   "execution_count": 156,
   "metadata": {
    "scrolled": true
   },
   "outputs": [
    {
     "data": {
      "text/plain": [
       "array([ 0.01382866, -0.08008003,  0.02873622,  0.10959027, -0.01892801,\n",
       "        0.00176155,  0.00300947,  0.04662548,  0.00052945, -0.03213642,\n",
       "        0.00914337,  0.        ,  0.05613255,  0.07079346,  0.0910695 ,\n",
       "       -0.0341951 , -0.11492109,  0.00570073,  0.        ,  0.        ,\n",
       "        0.        ,  0.        ,  0.        ,  0.        ,  0.        ,\n",
       "        0.        ,  0.        ,  0.        ,  0.        ,  0.        ,\n",
       "        0.        ,  0.        ,  0.        ,  0.        ,  0.        ,\n",
       "        0.        ,  0.09538935, -0.27939869,  0.        ,  0.19393112])"
      ]
     },
     "execution_count": 156,
     "metadata": {},
     "output_type": "execute_result"
    }
   ],
   "source": [
    "ll.coef_"
   ]
  },
  {
   "cell_type": "code",
   "execution_count": 157,
   "metadata": {},
   "outputs": [
    {
     "data": {
      "text/plain": [
       "Slope                  0.013829\n",
       "MaxSl_Foc             -0.080080\n",
       "DepthRC_JD             0.028736\n",
       "Z_RCDEM_JD             0.109590\n",
       "Pt_Density            -0.018928\n",
       "Rough10cm              0.001762\n",
       "Rough20cm              0.003009\n",
       "Rough30cm              0.046625\n",
       "Rough40cm              0.000529\n",
       "Rough50cm             -0.032136\n",
       "Outlier                0.009143\n",
       "BlockCode_BREAKS2      0.056133\n",
       "BlockCode_BREAKS       0.070793\n",
       "BlockCode_WATER        0.091069\n",
       "BlockCode_LINE6       -0.034195\n",
       "BlockCode_LINE2       -0.114921\n",
       "BlockCode_LINE7        0.005701\n",
       "Type_Submerged         0.095389\n",
       "VEG_TREES_N/a         -0.279399\n",
       "VEG_TREES_Veg&Trees    0.193931\n",
       "dtype: float64"
      ]
     },
     "execution_count": 157,
     "metadata": {},
     "output_type": "execute_result"
    }
   ],
   "source": [
    "ll_importances = pd.Series(ll.coef_, index=tpot_X_train.columns)\n",
    "ll_importances[ll_importances.abs() > 0]"
   ]
  },
  {
   "cell_type": "code",
   "execution_count": 54,
   "metadata": {},
   "outputs": [
    {
     "data": {
      "text/plain": [
       "0.3769693855491752"
      ]
     },
     "execution_count": 54,
     "metadata": {},
     "output_type": "execute_result"
    }
   ],
   "source": [
    "ll.intercept_"
   ]
  },
  {
   "cell_type": "code",
   "execution_count": 55,
   "metadata": {},
   "outputs": [],
   "source": [
    "ll._decision_function??"
   ]
  },
  {
   "cell_type": "code",
   "execution_count": 56,
   "metadata": {},
   "outputs": [],
   "source": [
    "cols = list(ll_importances[ll_importances.abs() > 0].index)"
   ]
  },
  {
   "cell_type": "code",
   "execution_count": 57,
   "metadata": {},
   "outputs": [
    {
     "data": {
      "text/plain": [
       "['Slope',\n",
       " 'MaxSl_Foc',\n",
       " 'DepthRC_JD',\n",
       " 'Z_RCDEM_JD',\n",
       " 'Pt_Density',\n",
       " 'Rough10cm',\n",
       " 'Rough20cm',\n",
       " 'Rough30cm',\n",
       " 'Rough50cm',\n",
       " 'Type_Exposed',\n",
       " 'VEG_TREES_N/a',\n",
       " 'VEG_TREES_Veg&Trees']"
      ]
     },
     "execution_count": 57,
     "metadata": {},
     "output_type": "execute_result"
    }
   ],
   "source": [
    "cols"
   ]
  },
  {
   "cell_type": "code",
   "execution_count": 58,
   "metadata": {},
   "outputs": [],
   "source": [
    "test_df = tpot_X_test[cols].head()"
   ]
  },
  {
   "cell_type": "code",
   "execution_count": 59,
   "metadata": {},
   "outputs": [
    {
     "data": {
      "text/html": [
       "<div>\n",
       "<style scoped>\n",
       "    .dataframe tbody tr th:only-of-type {\n",
       "        vertical-align: middle;\n",
       "    }\n",
       "\n",
       "    .dataframe tbody tr th {\n",
       "        vertical-align: top;\n",
       "    }\n",
       "\n",
       "    .dataframe thead th {\n",
       "        text-align: right;\n",
       "    }\n",
       "</style>\n",
       "<table border=\"1\" class=\"dataframe\">\n",
       "  <thead>\n",
       "    <tr style=\"text-align: right;\">\n",
       "      <th></th>\n",
       "      <th>Slope</th>\n",
       "      <th>MaxSl_Foc</th>\n",
       "      <th>DepthRC_JD</th>\n",
       "      <th>Z_RCDEM_JD</th>\n",
       "      <th>Pt_Density</th>\n",
       "      <th>Rough10cm</th>\n",
       "      <th>Rough20cm</th>\n",
       "      <th>Rough30cm</th>\n",
       "      <th>Rough50cm</th>\n",
       "      <th>Type_Exposed</th>\n",
       "      <th>VEG_TREES_N/a</th>\n",
       "      <th>VEG_TREES_Veg&amp;Trees</th>\n",
       "    </tr>\n",
       "  </thead>\n",
       "  <tbody>\n",
       "    <tr>\n",
       "      <th>1200</th>\n",
       "      <td>-0.715860</td>\n",
       "      <td>-0.859958</td>\n",
       "      <td>-0.095595</td>\n",
       "      <td>-0.409237</td>\n",
       "      <td>0.188476</td>\n",
       "      <td>-0.206930</td>\n",
       "      <td>0.129445</td>\n",
       "      <td>0.470788</td>\n",
       "      <td>0.645426</td>\n",
       "      <td>1.0</td>\n",
       "      <td>1.0</td>\n",
       "      <td>0.0</td>\n",
       "    </tr>\n",
       "    <tr>\n",
       "      <th>1201</th>\n",
       "      <td>1.087976</td>\n",
       "      <td>2.494035</td>\n",
       "      <td>-0.095595</td>\n",
       "      <td>-0.175639</td>\n",
       "      <td>0.771921</td>\n",
       "      <td>0.247213</td>\n",
       "      <td>0.604601</td>\n",
       "      <td>1.705778</td>\n",
       "      <td>1.323484</td>\n",
       "      <td>1.0</td>\n",
       "      <td>1.0</td>\n",
       "      <td>0.0</td>\n",
       "    </tr>\n",
       "    <tr>\n",
       "      <th>1202</th>\n",
       "      <td>-0.669447</td>\n",
       "      <td>-0.983693</td>\n",
       "      <td>-0.095595</td>\n",
       "      <td>-0.112162</td>\n",
       "      <td>-0.394969</td>\n",
       "      <td>-0.950073</td>\n",
       "      <td>-0.890401</td>\n",
       "      <td>-0.972513</td>\n",
       "      <td>-0.511949</td>\n",
       "      <td>1.0</td>\n",
       "      <td>1.0</td>\n",
       "      <td>0.0</td>\n",
       "    </tr>\n",
       "    <tr>\n",
       "      <th>1203</th>\n",
       "      <td>-0.477423</td>\n",
       "      <td>-0.464300</td>\n",
       "      <td>-0.095595</td>\n",
       "      <td>-0.206109</td>\n",
       "      <td>0.966402</td>\n",
       "      <td>1.630284</td>\n",
       "      <td>0.477120</td>\n",
       "      <td>0.002087</td>\n",
       "      <td>-0.246961</td>\n",
       "      <td>1.0</td>\n",
       "      <td>1.0</td>\n",
       "      <td>0.0</td>\n",
       "    </tr>\n",
       "    <tr>\n",
       "      <th>1204</th>\n",
       "      <td>-0.525870</td>\n",
       "      <td>-0.504675</td>\n",
       "      <td>-0.095595</td>\n",
       "      <td>-1.381714</td>\n",
       "      <td>-0.783932</td>\n",
       "      <td>2.373427</td>\n",
       "      <td>1.299951</td>\n",
       "      <td>0.537745</td>\n",
       "      <td>-0.114467</td>\n",
       "      <td>0.0</td>\n",
       "      <td>1.0</td>\n",
       "      <td>0.0</td>\n",
       "    </tr>\n",
       "  </tbody>\n",
       "</table>\n",
       "</div>"
      ],
      "text/plain": [
       "         Slope  MaxSl_Foc  DepthRC_JD  Z_RCDEM_JD  Pt_Density  Rough10cm  \\\n",
       "1200 -0.715860  -0.859958   -0.095595   -0.409237    0.188476  -0.206930   \n",
       "1201  1.087976   2.494035   -0.095595   -0.175639    0.771921   0.247213   \n",
       "1202 -0.669447  -0.983693   -0.095595   -0.112162   -0.394969  -0.950073   \n",
       "1203 -0.477423  -0.464300   -0.095595   -0.206109    0.966402   1.630284   \n",
       "1204 -0.525870  -0.504675   -0.095595   -1.381714   -0.783932   2.373427   \n",
       "\n",
       "      Rough20cm  Rough30cm  Rough50cm  Type_Exposed  VEG_TREES_N/a  \\\n",
       "1200   0.129445   0.470788   0.645426           1.0            1.0   \n",
       "1201   0.604601   1.705778   1.323484           1.0            1.0   \n",
       "1202  -0.890401  -0.972513  -0.511949           1.0            1.0   \n",
       "1203   0.477120   0.002087  -0.246961           1.0            1.0   \n",
       "1204   1.299951   0.537745  -0.114467           0.0            1.0   \n",
       "\n",
       "      VEG_TREES_Veg&Trees  \n",
       "1200                  0.0  \n",
       "1201                  0.0  \n",
       "1202                  0.0  \n",
       "1203                  0.0  \n",
       "1204                  0.0  "
      ]
     },
     "execution_count": 59,
     "metadata": {},
     "output_type": "execute_result"
    }
   ],
   "source": [
    "test_df"
   ]
  },
  {
   "cell_type": "code",
   "execution_count": 60,
   "metadata": {},
   "outputs": [
    {
     "ename": "AttributeError",
     "evalue": "'DataFrame' object has no attribute 'Z_BNG'",
     "output_type": "error",
     "traceback": [
      "\u001b[0;31m---------------------------------------------------------------------------\u001b[0m",
      "\u001b[0;31mAttributeError\u001b[0m                            Traceback (most recent call last)",
      "\u001b[0;32m<ipython-input-60-2f52bb93d3ab>\u001b[0m in \u001b[0;36m<module>\u001b[0;34m()\u001b[0m\n\u001b[0;32m----> 1\u001b[0;31m pred_y = (ll.intercept_ + (-0.7747 * tpot_X_test.Z_BNG) +\n\u001b[0m\u001b[1;32m      2\u001b[0m                                  (0.7876 * tpot_X_test.Z_RCDEM_JD))\n\u001b[1;32m      3\u001b[0m                                  \u001b[0;31m#(-3.330669e-16 * tpot_X_test.MaxSl_Foc) +\u001b[0m\u001b[0;34m\u001b[0m\u001b[0;34m\u001b[0m\u001b[0m\n\u001b[1;32m      4\u001b[0m                                  \u001b[0;31m#(-9.506285e-16 * tpot_X_test.DoD) +\u001b[0m\u001b[0;34m\u001b[0m\u001b[0;34m\u001b[0m\u001b[0m\n\u001b[1;32m      5\u001b[0m                                  \u001b[0;31m#(-4.614364e-16 * tpot_X_test.Pt_Density))\u001b[0m\u001b[0;34m\u001b[0m\u001b[0;34m\u001b[0m\u001b[0m\n",
      "\u001b[0;32m~/anaconda3/lib/python3.6/site-packages/pandas/core/generic.py\u001b[0m in \u001b[0;36m__getattr__\u001b[0;34m(self, name)\u001b[0m\n\u001b[1;32m   4374\u001b[0m             \u001b[0;32mif\u001b[0m \u001b[0mself\u001b[0m\u001b[0;34m.\u001b[0m\u001b[0m_info_axis\u001b[0m\u001b[0;34m.\u001b[0m\u001b[0m_can_hold_identifiers_and_holds_name\u001b[0m\u001b[0;34m(\u001b[0m\u001b[0mname\u001b[0m\u001b[0;34m)\u001b[0m\u001b[0;34m:\u001b[0m\u001b[0;34m\u001b[0m\u001b[0m\n\u001b[1;32m   4375\u001b[0m                 \u001b[0;32mreturn\u001b[0m \u001b[0mself\u001b[0m\u001b[0;34m[\u001b[0m\u001b[0mname\u001b[0m\u001b[0;34m]\u001b[0m\u001b[0;34m\u001b[0m\u001b[0m\n\u001b[0;32m-> 4376\u001b[0;31m             \u001b[0;32mreturn\u001b[0m \u001b[0mobject\u001b[0m\u001b[0;34m.\u001b[0m\u001b[0m__getattribute__\u001b[0m\u001b[0;34m(\u001b[0m\u001b[0mself\u001b[0m\u001b[0;34m,\u001b[0m \u001b[0mname\u001b[0m\u001b[0;34m)\u001b[0m\u001b[0;34m\u001b[0m\u001b[0m\n\u001b[0m\u001b[1;32m   4377\u001b[0m \u001b[0;34m\u001b[0m\u001b[0m\n\u001b[1;32m   4378\u001b[0m     \u001b[0;32mdef\u001b[0m \u001b[0m__setattr__\u001b[0m\u001b[0;34m(\u001b[0m\u001b[0mself\u001b[0m\u001b[0;34m,\u001b[0m \u001b[0mname\u001b[0m\u001b[0;34m,\u001b[0m \u001b[0mvalue\u001b[0m\u001b[0;34m)\u001b[0m\u001b[0;34m:\u001b[0m\u001b[0;34m\u001b[0m\u001b[0m\n",
      "\u001b[0;31mAttributeError\u001b[0m: 'DataFrame' object has no attribute 'Z_BNG'"
     ]
    }
   ],
   "source": [
    "pred_y = (ll.intercept_ + (-0.7747 * tpot_X_test.Z_BNG) +\n",
    "                                 (0.7876 * tpot_X_test.Z_RCDEM_JD))\n",
    "                                 #(-3.330669e-16 * tpot_X_test.MaxSl_Foc) +\n",
    "                                 #(-9.506285e-16 * tpot_X_test.DoD) + \n",
    "                                 #(-4.614364e-16 * tpot_X_test.Pt_Density))"
   ]
  },
  {
   "cell_type": "code",
   "execution_count": null,
   "metadata": {},
   "outputs": [],
   "source": [
    "ll.coef_"
   ]
  },
  {
   "cell_type": "code",
   "execution_count": null,
   "metadata": {},
   "outputs": [],
   "source": [
    "(0.5 * 2) + (-0.45 * 5)"
   ]
  },
  {
   "cell_type": "code",
   "execution_count": null,
   "metadata": {},
   "outputs": [],
   "source": [
    "(0.5 - 0.45) * (2 + 5)"
   ]
  },
  {
   "cell_type": "code",
   "execution_count": null,
   "metadata": {},
   "outputs": [],
   "source": [
    "def dot_product(matrix, vector):\n",
    "    result = 0\n",
    "    for index, value in enumerate(vector):\n",
    "        result += (value * matrix.iloc[:,index])\n",
    "        \n",
    "    return result"
   ]
  },
  {
   "cell_type": "code",
   "execution_count": null,
   "metadata": {},
   "outputs": [],
   "source": [
    "dot_product(tpot_X_test, ll.coef_) + ll.intercept_"
   ]
  },
  {
   "cell_type": "code",
   "execution_count": null,
   "metadata": {},
   "outputs": [],
   "source": [
    "ll.coef_.T"
   ]
  },
  {
   "cell_type": "code",
   "execution_count": null,
   "metadata": {},
   "outputs": [],
   "source": [
    "results = pd.DataFrame({'pred': pred_y, 'actual': tpot_y_test, 'err':pred_y-tpot_y_test})"
   ]
  },
  {
   "cell_type": "code",
   "execution_count": null,
   "metadata": {},
   "outputs": [],
   "source": [
    "results.head()"
   ]
  },
  {
   "cell_type": "code",
   "execution_count": null,
   "metadata": {},
   "outputs": [],
   "source": [
    "results.err.abs().describe()"
   ]
  },
  {
   "cell_type": "code",
   "execution_count": null,
   "metadata": {},
   "outputs": [],
   "source": []
  },
  {
   "cell_type": "markdown",
   "metadata": {},
   "source": [
    "# TPOT LassoLars with PolynomialFeatures"
   ]
  },
  {
   "cell_type": "code",
   "execution_count": 98,
   "metadata": {},
   "outputs": [],
   "source": [
    "pipeline = make_pipeline(\n",
    "#     MaxAbsScaler(),\n",
    "#     StackingEstimator(estimator=RidgeCV()),\n",
    "#     StackingEstimator(estimator=RidgeCV()),\n",
    "    PolynomialFeatures(degree=2, include_bias=False, interaction_only=False),\n",
    "    LassoLarsCV(normalize=False)\n",
    ")"
   ]
  },
  {
   "cell_type": "code",
   "execution_count": 99,
   "metadata": {
    "scrolled": true
   },
   "outputs": [
    {
     "name": "stderr",
     "output_type": "stream",
     "text": [
      "/Users/robin/anaconda3/lib/python3.6/site-packages/sklearn/linear_model/least_angle.py:313: ConvergenceWarning: Regressors in active set degenerate. Dropping a regressor, after 205 iterations, i.e. alpha=2.984e-04, with an active set of 137 regressors, and the smallest cholesky pivot element being 4.215e-08. Reduce max_iter or increase eps parameters.\n",
      "  ConvergenceWarning)\n",
      "/Users/robin/anaconda3/lib/python3.6/site-packages/sklearn/linear_model/least_angle.py:313: ConvergenceWarning: Regressors in active set degenerate. Dropping a regressor, after 215 iterations, i.e. alpha=2.774e-04, with an active set of 141 regressors, and the smallest cholesky pivot element being 4.215e-08. Reduce max_iter or increase eps parameters.\n",
      "  ConvergenceWarning)\n",
      "/Users/robin/anaconda3/lib/python3.6/site-packages/sklearn/linear_model/least_angle.py:339: ConvergenceWarning: Early stopping the lars path, as the residues are small and the current value of alpha is no longer well controlled. 244 iterations, alpha=2.036e-04, previous alpha=1.981e-04, with an active set of 157 regressors.\n",
      "  ConvergenceWarning)\n",
      "/Users/robin/anaconda3/lib/python3.6/site-packages/sklearn/linear_model/least_angle.py:313: ConvergenceWarning: Regressors in active set degenerate. Dropping a regressor, after 78 iterations, i.e. alpha=2.511e-03, with an active set of 60 regressors, and the smallest cholesky pivot element being 8.429e-08. Reduce max_iter or increase eps parameters.\n",
      "  ConvergenceWarning)\n",
      "/Users/robin/anaconda3/lib/python3.6/site-packages/sklearn/linear_model/least_angle.py:313: ConvergenceWarning: Regressors in active set degenerate. Dropping a regressor, after 113 iterations, i.e. alpha=1.255e-03, with an active set of 81 regressors, and the smallest cholesky pivot element being 8.429e-08. Reduce max_iter or increase eps parameters.\n",
      "  ConvergenceWarning)\n",
      "/Users/robin/anaconda3/lib/python3.6/site-packages/sklearn/linear_model/least_angle.py:313: ConvergenceWarning: Regressors in active set degenerate. Dropping a regressor, after 114 iterations, i.e. alpha=1.255e-03, with an active set of 82 regressors, and the smallest cholesky pivot element being 8.429e-08. Reduce max_iter or increase eps parameters.\n",
      "  ConvergenceWarning)\n",
      "/Users/robin/anaconda3/lib/python3.6/site-packages/sklearn/linear_model/least_angle.py:313: ConvergenceWarning: Regressors in active set degenerate. Dropping a regressor, after 129 iterations, i.e. alpha=9.707e-04, with an active set of 89 regressors, and the smallest cholesky pivot element being 2.220e-16. Reduce max_iter or increase eps parameters.\n",
      "  ConvergenceWarning)\n",
      "/Users/robin/anaconda3/lib/python3.6/site-packages/sklearn/linear_model/least_angle.py:313: ConvergenceWarning: Regressors in active set degenerate. Dropping a regressor, after 131 iterations, i.e. alpha=9.693e-04, with an active set of 91 regressors, and the smallest cholesky pivot element being 2.220e-16. Reduce max_iter or increase eps parameters.\n",
      "  ConvergenceWarning)\n",
      "/Users/robin/anaconda3/lib/python3.6/site-packages/sklearn/linear_model/least_angle.py:313: ConvergenceWarning: Regressors in active set degenerate. Dropping a regressor, after 142 iterations, i.e. alpha=8.409e-04, with an active set of 96 regressors, and the smallest cholesky pivot element being 8.429e-08. Reduce max_iter or increase eps parameters.\n",
      "  ConvergenceWarning)\n",
      "/Users/robin/anaconda3/lib/python3.6/site-packages/sklearn/linear_model/least_angle.py:313: ConvergenceWarning: Regressors in active set degenerate. Dropping a regressor, after 154 iterations, i.e. alpha=7.325e-04, with an active set of 108 regressors, and the smallest cholesky pivot element being 8.429e-08. Reduce max_iter or increase eps parameters.\n",
      "  ConvergenceWarning)\n",
      "/Users/robin/anaconda3/lib/python3.6/site-packages/sklearn/linear_model/least_angle.py:339: ConvergenceWarning: Early stopping the lars path, as the residues are small and the current value of alpha is no longer well controlled. 206 iterations, alpha=4.619e-04, previous alpha=4.619e-04, with an active set of 127 regressors.\n",
      "  ConvergenceWarning)\n",
      "/Users/robin/anaconda3/lib/python3.6/site-packages/sklearn/linear_model/least_angle.py:313: ConvergenceWarning: Regressors in active set degenerate. Dropping a regressor, after 142 iterations, i.e. alpha=6.699e-04, with an active set of 102 regressors, and the smallest cholesky pivot element being 9.424e-08. Reduce max_iter or increase eps parameters.\n",
      "  ConvergenceWarning)\n",
      "/Users/robin/anaconda3/lib/python3.6/site-packages/sklearn/linear_model/least_angle.py:339: ConvergenceWarning: Early stopping the lars path, as the residues are small and the current value of alpha is no longer well controlled. 158 iterations, alpha=5.855e-04, previous alpha=5.855e-04, with an active set of 109 regressors.\n",
      "  ConvergenceWarning)\n",
      "/Users/robin/anaconda3/lib/python3.6/site-packages/sklearn/linear_model/least_angle.py:313: ConvergenceWarning: Regressors in active set degenerate. Dropping a regressor, after 62 iterations, i.e. alpha=5.090e-03, with an active set of 46 regressors, and the smallest cholesky pivot element being 2.220e-16. Reduce max_iter or increase eps parameters.\n",
      "  ConvergenceWarning)\n",
      "/Users/robin/anaconda3/lib/python3.6/site-packages/sklearn/linear_model/least_angle.py:313: ConvergenceWarning: Regressors in active set degenerate. Dropping a regressor, after 90 iterations, i.e. alpha=2.326e-03, with an active set of 68 regressors, and the smallest cholesky pivot element being 2.220e-16. Reduce max_iter or increase eps parameters.\n",
      "  ConvergenceWarning)\n"
     ]
    }
   ],
   "source": [
    "pipeline.fit(tpot_X_train, tpot_y_train)\n",
    "results = pipeline.predict(tpot_X_test)"
   ]
  },
  {
   "cell_type": "code",
   "execution_count": 100,
   "metadata": {},
   "outputs": [
    {
     "data": {
      "text/plain": [
       "0.4718642925080869"
      ]
     },
     "execution_count": 100,
     "metadata": {},
     "output_type": "execute_result"
    }
   ],
   "source": [
    "pipeline.score(tpot_X_test, tpot_y_test)"
   ]
  },
  {
   "cell_type": "code",
   "execution_count": 101,
   "metadata": {},
   "outputs": [
    {
     "data": {
      "text/plain": [
       "0.09261113619622544"
      ]
     },
     "execution_count": 101,
     "metadata": {},
     "output_type": "execute_result"
    }
   ],
   "source": [
    "mean_absolute_error(results, tpot_y_test)"
   ]
  },
  {
   "cell_type": "code",
   "execution_count": null,
   "metadata": {},
   "outputs": [],
   "source": []
  }
 ],
 "metadata": {
  "hide_input": false,
  "kernelspec": {
   "display_name": "Python 3",
   "language": "python",
   "name": "python3"
  },
  "language_info": {
   "codemirror_mode": {
    "name": "ipython",
    "version": 3
   },
   "file_extension": ".py",
   "mimetype": "text/x-python",
   "name": "python",
   "nbconvert_exporter": "python",
   "pygments_lexer": "ipython3",
   "version": "3.7.1"
  }
 },
 "nbformat": 4,
 "nbformat_minor": 2
}
